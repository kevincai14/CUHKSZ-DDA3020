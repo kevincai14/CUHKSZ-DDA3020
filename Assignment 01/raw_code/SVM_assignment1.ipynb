{
  "cells": [
    {
      "cell_type": "markdown",
      "metadata": {
        "id": "oRFfHJIPIuTS"
      },
      "source": [
        "# Linear SVM"
      ]
    },
    {
      "cell_type": "code",
      "execution_count": 1,
      "metadata": {
        "colab": {
          "base_uri": "https://localhost:8080/"
        },
        "id": "Wry2gheOIZyR",
        "outputId": "78fc3b32-b4e5-4c2a-822e-605ad4983880"
      },
      "outputs": [
        {
          "data": {
            "text/plain": [
              "array([1])"
            ]
          },
          "execution_count": 1,
          "metadata": {},
          "output_type": "execute_result"
        }
      ],
      "source": [
        "%matplotlib inline\n",
        "import matplotlib\n",
        "import matplotlib.pyplot as plt\n",
        "\n",
        "from sklearn.svm import SVC\n",
        "from sklearn import datasets\n",
        "\n",
        "# Dataset\n",
        "iris = datasets.load_iris()\n",
        "X = iris[\"data\"][:, (2, 3)]  # petal length, petal width\n",
        "y = iris[\"target\"]\n",
        "\n",
        "setosa_or_versicolor = (y == 0) | (y == 1)\n",
        "X = X[setosa_or_versicolor]\n",
        "y = y[setosa_or_versicolor]\n",
        "\n",
        "# SVM Classifier model\n",
        "svm_clf = SVC(kernel=\"linear\", C=float(\"inf\"))\n",
        "svm_clf.fit(X, y)\n",
        "\n",
        "# Usage Example:\n",
        "# SVM classifiers do not output a probability like logistic regression\n",
        "svm_clf.predict([[2.4, 3.1]])"
      ]
    },
    {
      "cell_type": "code",
      "execution_count": null,
      "metadata": {
        "id": "jVQHO7gvPSxy"
      },
      "outputs": [],
      "source": [
        "def plot_svc_decision_boundary(svm_clf, xmin, xmax):\n",
        "    w = svm_clf.coef_[0]\n",
        "    b = svm_clf.intercept_[0]\n",
        "    x0 = np.linspace(xmin, xmax, 200)\n",
        "\n",
        "    ######################################\n",
        "    ## WRITE YOUR CODE HERE (10 Points) ## \n",
        "    ######################################\n",
        "\n",
        "    # Hint: at the decision boundary, w0*x0 + w1*x1 + b = 0,\n",
        "    # write down the formula of x1 as decision_boundary here\n",
        "\n",
        "    decision_boundary = #\n",
        "    margin = #\n",
        "\n",
        "    gutter_up = decision_boundary + margin\n",
        "    gutter_down = decision_boundary - margin\n",
        "\n",
        "    svs = svm_clf.support_vectors_\n",
        "    plt.scatter(svs[:, 0], svs[:, 1], s=180, facecolors='#FFAAAA')\n",
        "    plt.plot(x0, decision_boundary, \"k-\", linewidth=2)\n",
        "    plt.plot(x0, gutter_up, \"k--\", linewidth=2)\n",
        "    plt.plot(x0, gutter_down, \"k--\", linewidth=2)"
      ]
    },
    {
      "cell_type": "code",
      "execution_count": null,
      "metadata": {
        "id": "WReVjbfAIoMX"
      },
      "outputs": [],
      "source": [
        "#Plot the decision boundaries\n",
        "import numpy as np\n",
        "from sklearn.preprocessing import StandardScaler\n",
        "\n",
        "plt.figure(figsize=(12,3.2))\n",
        "scaler = StandardScaler()\n",
        "X_scaled = scaler.fit_transform(X)\n",
        "svm_clf.fit(X_scaled, y)\n",
        "\n",
        "plt.plot(X_scaled[:, 0][y==1], X_scaled[:, 1][y==1], \"bo\")\n",
        "plt.plot(X_scaled[:, 0][y==0], X_scaled[:, 1][y==0], \"ms\")\n",
        "plot_svc_decision_boundary(svm_clf, -2, 2)\n",
        "\n",
        "plt.xlabel(\"Petal Width normalized\", fontsize=12)\n",
        "plt.ylabel(\"Petal Length normalized\", fontsize=12)\n",
        "plt.title(\"Scaled\", fontsize=16)\n",
        "plt.axis([-2, 2, -2, 2])"
      ]
    },
    {
      "cell_type": "markdown",
      "metadata": {
        "id": "n2q9f2-EJJV9"
      },
      "source": [
        "# Non Linear SVM"
      ]
    },
    {
      "cell_type": "code",
      "execution_count": null,
      "metadata": {
        "id": "cmp3KxuiIrZ_"
      },
      "outputs": [],
      "source": [
        "from sklearn.datasets import make_moons\n",
        "from sklearn.pipeline import Pipeline\n",
        "from sklearn.preprocessing import PolynomialFeatures\n",
        "from sklearn.svm import LinearSVC"
      ]
    },
    {
      "cell_type": "code",
      "execution_count": null,
      "metadata": {
        "id": "D8_eE7keJSa9"
      },
      "outputs": [],
      "source": [
        "# Construct some test data\n",
        "from sklearn.datasets import make_moons\n",
        "X, y = make_moons(n_samples=100, noise=0.15, random_state=42)\n",
        "\n",
        "# Define a function to plot the dataset\n",
        "def plot_dataset(X, y, axes):\n",
        "    plt.plot(X[:, 0][y==0], X[:, 1][y==0], \"bs\")\n",
        "    plt.plot(X[:, 0][y==1], X[:, 1][y==1], \"ms\")\n",
        "    plt.axis(axes)\n",
        "    plt.grid(True, which='both')\n",
        "    plt.xlabel(r\"$x_1$\", fontsize=20)\n",
        "    plt.ylabel(r\"$x_2$\", fontsize=20, rotation=0)\n",
        "\n",
        "# Let's have a look at the data we have generated\n",
        "plot_dataset(X, y, [-1.5, 2.5, -1, 1.5])\n",
        "plt.show()"
      ]
    },
    {
      "cell_type": "code",
      "execution_count": null,
      "metadata": {
        "id": "78oIXYzUJYWw"
      },
      "outputs": [],
      "source": [
        "# Define a function plot the decision boundaries\n",
        "\n",
        "def plot_predictions(clf, axes):\n",
        "    # create data in continous linear space\n",
        "    x0s = np.linspace(axes[0], axes[1], 100)\n",
        "    x1s = np.linspace(axes[2], axes[3], 100)\n",
        "    x0, x1 = np.meshgrid(x0s, x1s)\n",
        "    X = np.c_[x0.ravel(), x1.ravel()]\n",
        "    y_pred = clf.predict(X).reshape(x0.shape)\n",
        "    y_decision = clf.decision_function(X).reshape(x0.shape)\n",
        "    plt.contourf(x0, x1, y_pred, cmap=plt.cm.brg, alpha=0.2)\n",
        "    plt.contourf(x0, x1, y_decision, cmap=plt.cm.brg, alpha=0.1)"
      ]
    },
    {
      "cell_type": "code",
      "execution_count": null,
      "metadata": {
        "id": "wj3KDcYnJar3"
      },
      "outputs": [],
      "source": [
        "# Build the model and set hyperparameters\n",
        "# Create a pipeline to create features, scale data and fit the model\n",
        "\n",
        "######################################\n",
        "## WRITE YOUR CODE HERE (15 Points) ## \n",
        "######################################\n",
        "\n",
        "polynomial_svm_clf = Pipeline() # finish the pipeline\n",
        "\n",
        "# Hint:\n",
        "# Pipeline allows you to chain multiple preprocessing and modeling steps together.\n",
        "# Step1：begin by applying polynomial feature transformation to the input data, using a degree of 3 to capture non-linear relationships.\n",
        "# Step2: scale the data with a standard scaler to ensure that the features are standardized\n",
        "# Step3: use a linear SVM classifier with hinge loss and appropriate hyperparameter.\n",
        "\n",
        "# Once the pipeline is constructed, you can fit the model on the training data\n",
        "polynomial_svm_clf.fit(X,y)"
      ]
    },
    {
      "cell_type": "code",
      "execution_count": null,
      "metadata": {
        "id": "iOEeb9buJi7A"
      },
      "outputs": [],
      "source": [
        "#plot the decision boundaries\n",
        "plt.figure(figsize=(11, 4))\n",
        "\n",
        "#plot the decision boundaries\n",
        "plot_predictions(polynomial_svm_clf, [-1.5, 2.5, -1, 1.5])\n",
        "\n",
        "#plot the dataset\n",
        "plot_dataset(X, y, [-1.5, 2.5, -1, 1.5])\n",
        "\n",
        "plt.title(r\"$d=3, C=10$\", fontsize=18)\n",
        "plt.show()"
      ]
    }
  ],
  "metadata": {
    "colab": {
      "provenance": []
    },
    "kernelspec": {
      "display_name": "Python 3",
      "name": "python3"
    },
    "language_info": {
      "name": "python"
    }
  },
  "nbformat": 4,
  "nbformat_minor": 0
}
