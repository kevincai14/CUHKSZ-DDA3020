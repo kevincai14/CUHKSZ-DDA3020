{
 "cells": [
  {
   "cell_type": "code",
   "id": "16126259",
   "metadata": {
    "ExecuteTime": {
     "end_time": "2025-03-04T08:08:21.156736Z",
     "start_time": "2025-03-04T08:08:18.546565Z"
    }
   },
   "source": [
    "import pandas as pd\n",
    "import numpy as np\n",
    "import matplotlib.pyplot as plt"
   ],
   "outputs": [],
   "execution_count": 1
  },
  {
   "cell_type": "markdown",
   "id": "17cccd1a",
   "metadata": {},
   "source": [
    "## 1. Load data\n",
    "\n",
    "1. Load provided `Iris.csv` file.\n",
    "2. Change the Species columns to numeric label `0, 1, 2` and output a numpy.ndarray in shape `(num_data, 1)`. \n",
    "3. Convert `SepalLengthCm`, `SepalWidthCm` column into numpy.ndarray in shape `(num_data, 2)`."
   ]
  },
  {
   "cell_type": "markdown",
   "id": "ae21c458",
   "metadata": {},
   "source": [
    "1.1 Load provided `Iris.csv` file. Show the first 10 lines (1 points.)"
   ]
  },
  {
   "cell_type": "code",
   "id": "3d53df96",
   "metadata": {
    "ExecuteTime": {
     "end_time": "2025-03-04T08:08:21.202444Z",
     "start_time": "2025-03-04T08:08:21.169507Z"
    }
   },
   "source": [
    "########################\n",
    "# Write your code here #\n",
    "data = pd.read_csv(\"C:/Users\\Quan\\GitHub\\CUHKSZ-DDA3020\\Assignment 01/raw_data/Iris.csv\")\n",
    "data.head(10)\n",
    "########################"
   ],
   "outputs": [
    {
     "data": {
      "text/plain": [
       "   Id  SepalLengthCm  SepalWidthCm  PetalLengthCm  PetalWidthCm      Species\n",
       "0   1            5.1           3.5            1.4           0.2  Iris-setosa\n",
       "1   2            4.9           3.0            1.4           0.2  Iris-setosa\n",
       "2   3            4.7           3.2            1.3           0.2  Iris-setosa\n",
       "3   4            4.6           3.1            1.5           0.2  Iris-setosa\n",
       "4   5            5.0           3.6            1.4           0.2  Iris-setosa\n",
       "5   6            5.4           3.9            1.7           0.4  Iris-setosa\n",
       "6   7            4.6           3.4            1.4           0.3  Iris-setosa\n",
       "7   8            5.0           3.4            1.5           0.2  Iris-setosa\n",
       "8   9            4.4           2.9            1.4           0.2  Iris-setosa\n",
       "9  10            4.9           3.1            1.5           0.1  Iris-setosa"
      ],
      "text/html": [
       "<div>\n",
       "<style scoped>\n",
       "    .dataframe tbody tr th:only-of-type {\n",
       "        vertical-align: middle;\n",
       "    }\n",
       "\n",
       "    .dataframe tbody tr th {\n",
       "        vertical-align: top;\n",
       "    }\n",
       "\n",
       "    .dataframe thead th {\n",
       "        text-align: right;\n",
       "    }\n",
       "</style>\n",
       "<table border=\"1\" class=\"dataframe\">\n",
       "  <thead>\n",
       "    <tr style=\"text-align: right;\">\n",
       "      <th></th>\n",
       "      <th>Id</th>\n",
       "      <th>SepalLengthCm</th>\n",
       "      <th>SepalWidthCm</th>\n",
       "      <th>PetalLengthCm</th>\n",
       "      <th>PetalWidthCm</th>\n",
       "      <th>Species</th>\n",
       "    </tr>\n",
       "  </thead>\n",
       "  <tbody>\n",
       "    <tr>\n",
       "      <th>0</th>\n",
       "      <td>1</td>\n",
       "      <td>5.1</td>\n",
       "      <td>3.5</td>\n",
       "      <td>1.4</td>\n",
       "      <td>0.2</td>\n",
       "      <td>Iris-setosa</td>\n",
       "    </tr>\n",
       "    <tr>\n",
       "      <th>1</th>\n",
       "      <td>2</td>\n",
       "      <td>4.9</td>\n",
       "      <td>3.0</td>\n",
       "      <td>1.4</td>\n",
       "      <td>0.2</td>\n",
       "      <td>Iris-setosa</td>\n",
       "    </tr>\n",
       "    <tr>\n",
       "      <th>2</th>\n",
       "      <td>3</td>\n",
       "      <td>4.7</td>\n",
       "      <td>3.2</td>\n",
       "      <td>1.3</td>\n",
       "      <td>0.2</td>\n",
       "      <td>Iris-setosa</td>\n",
       "    </tr>\n",
       "    <tr>\n",
       "      <th>3</th>\n",
       "      <td>4</td>\n",
       "      <td>4.6</td>\n",
       "      <td>3.1</td>\n",
       "      <td>1.5</td>\n",
       "      <td>0.2</td>\n",
       "      <td>Iris-setosa</td>\n",
       "    </tr>\n",
       "    <tr>\n",
       "      <th>4</th>\n",
       "      <td>5</td>\n",
       "      <td>5.0</td>\n",
       "      <td>3.6</td>\n",
       "      <td>1.4</td>\n",
       "      <td>0.2</td>\n",
       "      <td>Iris-setosa</td>\n",
       "    </tr>\n",
       "    <tr>\n",
       "      <th>5</th>\n",
       "      <td>6</td>\n",
       "      <td>5.4</td>\n",
       "      <td>3.9</td>\n",
       "      <td>1.7</td>\n",
       "      <td>0.4</td>\n",
       "      <td>Iris-setosa</td>\n",
       "    </tr>\n",
       "    <tr>\n",
       "      <th>6</th>\n",
       "      <td>7</td>\n",
       "      <td>4.6</td>\n",
       "      <td>3.4</td>\n",
       "      <td>1.4</td>\n",
       "      <td>0.3</td>\n",
       "      <td>Iris-setosa</td>\n",
       "    </tr>\n",
       "    <tr>\n",
       "      <th>7</th>\n",
       "      <td>8</td>\n",
       "      <td>5.0</td>\n",
       "      <td>3.4</td>\n",
       "      <td>1.5</td>\n",
       "      <td>0.2</td>\n",
       "      <td>Iris-setosa</td>\n",
       "    </tr>\n",
       "    <tr>\n",
       "      <th>8</th>\n",
       "      <td>9</td>\n",
       "      <td>4.4</td>\n",
       "      <td>2.9</td>\n",
       "      <td>1.4</td>\n",
       "      <td>0.2</td>\n",
       "      <td>Iris-setosa</td>\n",
       "    </tr>\n",
       "    <tr>\n",
       "      <th>9</th>\n",
       "      <td>10</td>\n",
       "      <td>4.9</td>\n",
       "      <td>3.1</td>\n",
       "      <td>1.5</td>\n",
       "      <td>0.1</td>\n",
       "      <td>Iris-setosa</td>\n",
       "    </tr>\n",
       "  </tbody>\n",
       "</table>\n",
       "</div>"
      ]
     },
     "execution_count": 2,
     "metadata": {},
     "output_type": "execute_result"
    }
   ],
   "execution_count": 2
  },
  {
   "cell_type": "markdown",
   "id": "a0646066",
   "metadata": {},
   "source": [
    "1.2 Change the Species columns to numeric label `0, 1, 2` and output a numpy.ndarray in shape `(num_data, 1)`. Show data every 10 lines. (2 points)"
   ]
  },
  {
   "cell_type": "code",
   "id": "17566e39",
   "metadata": {
    "ExecuteTime": {
     "end_time": "2025-03-04T08:08:21.681002Z",
     "start_time": "2025-03-04T08:08:21.676507Z"
    }
   },
   "source": [
    "########################\n",
    "# Write your code here #\n",
    "data[\"Species\"] = data[\"Species\"].apply(lambda x: 0 if x == \"Iris-setosa\" else 1 if x == \"Iris-versicolor\" else 2)\n",
    "species_array = data[\"Species\"].to_numpy()\n",
    "species_array = species_array.reshape(-1,1)\n",
    "species_array[::10]\n",
    "########################"
   ],
   "outputs": [
    {
     "data": {
      "text/plain": [
       "array([[0],\n",
       "       [0],\n",
       "       [0],\n",
       "       [0],\n",
       "       [0],\n",
       "       [1],\n",
       "       [1],\n",
       "       [1],\n",
       "       [1],\n",
       "       [1],\n",
       "       [2],\n",
       "       [2],\n",
       "       [2],\n",
       "       [2],\n",
       "       [2]])"
      ]
     },
     "execution_count": 3,
     "metadata": {},
     "output_type": "execute_result"
    }
   ],
   "execution_count": 3
  },
  {
   "cell_type": "markdown",
   "id": "f97f4419",
   "metadata": {},
   "source": [
    "1.3 Convert `SepalLengthCm` and `SepalWidthCm` columns to ndarray in shape `[num_data, 2]`. Convert numeric label column to ndarray in shape `[num_data, 1]`. Print these two ndarray (1 point)."
   ]
  },
  {
   "cell_type": "code",
   "id": "be3c14ba",
   "metadata": {
    "ExecuteTime": {
     "end_time": "2025-03-04T08:08:21.714683Z",
     "start_time": "2025-03-04T08:08:21.705385Z"
    }
   },
   "source": [
    "########################\n",
    "# Write your code here #\n",
    "ndarray = data[[\"SepalLengthCm\", \"SepalWidthCm\"]].to_numpy()\n",
    "ndarray.reshape(-1,2)\n",
    "print(ndarray)\n",
    "\n",
    "print(species_array)\n",
    "########################"
   ],
   "outputs": [
    {
     "name": "stdout",
     "output_type": "stream",
     "text": [
      "[[5.1 3.5]\n",
      " [4.9 3. ]\n",
      " [4.7 3.2]\n",
      " [4.6 3.1]\n",
      " [5.  3.6]\n",
      " [5.4 3.9]\n",
      " [4.6 3.4]\n",
      " [5.  3.4]\n",
      " [4.4 2.9]\n",
      " [4.9 3.1]\n",
      " [5.4 3.7]\n",
      " [4.8 3.4]\n",
      " [4.8 3. ]\n",
      " [4.3 3. ]\n",
      " [5.8 4. ]\n",
      " [5.7 4.4]\n",
      " [5.4 3.9]\n",
      " [5.1 3.5]\n",
      " [5.7 3.8]\n",
      " [5.1 3.8]\n",
      " [5.4 3.4]\n",
      " [5.1 3.7]\n",
      " [4.6 3.6]\n",
      " [5.1 3.3]\n",
      " [4.8 3.4]\n",
      " [5.  3. ]\n",
      " [5.  3.4]\n",
      " [5.2 3.5]\n",
      " [5.2 3.4]\n",
      " [4.7 3.2]\n",
      " [4.8 3.1]\n",
      " [5.4 3.4]\n",
      " [5.2 4.1]\n",
      " [5.5 4.2]\n",
      " [4.9 3.1]\n",
      " [5.  3.2]\n",
      " [5.5 3.5]\n",
      " [4.9 3.1]\n",
      " [4.4 3. ]\n",
      " [5.1 3.4]\n",
      " [5.  3.5]\n",
      " [4.5 2.3]\n",
      " [4.4 3.2]\n",
      " [5.  3.5]\n",
      " [5.1 3.8]\n",
      " [4.8 3. ]\n",
      " [5.1 3.8]\n",
      " [4.6 3.2]\n",
      " [5.3 3.7]\n",
      " [5.  3.3]\n",
      " [7.  3.2]\n",
      " [6.4 3.2]\n",
      " [6.9 3.1]\n",
      " [5.5 2.3]\n",
      " [6.5 2.8]\n",
      " [5.7 2.8]\n",
      " [6.3 3.3]\n",
      " [4.9 2.4]\n",
      " [6.6 2.9]\n",
      " [5.2 2.7]\n",
      " [5.  2. ]\n",
      " [5.9 3. ]\n",
      " [6.  2.2]\n",
      " [6.1 2.9]\n",
      " [5.6 2.9]\n",
      " [6.7 3.1]\n",
      " [5.6 3. ]\n",
      " [5.8 2.7]\n",
      " [6.2 2.2]\n",
      " [5.6 2.5]\n",
      " [5.9 3.2]\n",
      " [6.1 2.8]\n",
      " [6.3 2.5]\n",
      " [6.1 2.8]\n",
      " [6.4 2.9]\n",
      " [6.6 3. ]\n",
      " [6.8 2.8]\n",
      " [6.7 3. ]\n",
      " [6.  2.9]\n",
      " [5.7 2.6]\n",
      " [5.5 2.4]\n",
      " [5.5 2.4]\n",
      " [5.8 2.7]\n",
      " [6.  2.7]\n",
      " [5.4 3. ]\n",
      " [6.  3.4]\n",
      " [6.7 3.1]\n",
      " [6.3 2.3]\n",
      " [5.6 3. ]\n",
      " [5.5 2.5]\n",
      " [5.5 2.6]\n",
      " [6.1 3. ]\n",
      " [5.8 2.6]\n",
      " [5.  2.3]\n",
      " [5.6 2.7]\n",
      " [5.7 3. ]\n",
      " [5.7 2.9]\n",
      " [6.2 2.9]\n",
      " [5.1 2.5]\n",
      " [5.7 2.8]\n",
      " [6.3 3.3]\n",
      " [5.8 2.7]\n",
      " [7.1 3. ]\n",
      " [6.3 2.9]\n",
      " [6.5 3. ]\n",
      " [7.6 3. ]\n",
      " [4.9 2.5]\n",
      " [7.3 2.9]\n",
      " [6.7 2.5]\n",
      " [7.2 3.6]\n",
      " [6.5 3.2]\n",
      " [6.4 2.7]\n",
      " [6.8 3. ]\n",
      " [5.7 2.5]\n",
      " [5.8 2.8]\n",
      " [6.4 3.2]\n",
      " [6.5 3. ]\n",
      " [7.7 3.8]\n",
      " [7.7 2.6]\n",
      " [6.  2.2]\n",
      " [6.9 3.2]\n",
      " [5.6 2.8]\n",
      " [7.7 2.8]\n",
      " [6.3 2.7]\n",
      " [6.7 3.3]\n",
      " [7.2 3.2]\n",
      " [6.2 2.8]\n",
      " [6.1 3. ]\n",
      " [6.4 2.8]\n",
      " [7.2 3. ]\n",
      " [7.4 2.8]\n",
      " [7.9 3.8]\n",
      " [6.4 2.8]\n",
      " [6.3 2.8]\n",
      " [6.1 2.6]\n",
      " [7.7 3. ]\n",
      " [6.3 3.4]\n",
      " [6.4 3.1]\n",
      " [6.  3. ]\n",
      " [6.9 3.1]\n",
      " [6.7 3.1]\n",
      " [6.9 3.1]\n",
      " [5.8 2.7]\n",
      " [6.8 3.2]\n",
      " [6.7 3.3]\n",
      " [6.7 3. ]\n",
      " [6.3 2.5]\n",
      " [6.5 3. ]\n",
      " [6.2 3.4]\n",
      " [5.9 3. ]]\n",
      "[[0]\n",
      " [0]\n",
      " [0]\n",
      " [0]\n",
      " [0]\n",
      " [0]\n",
      " [0]\n",
      " [0]\n",
      " [0]\n",
      " [0]\n",
      " [0]\n",
      " [0]\n",
      " [0]\n",
      " [0]\n",
      " [0]\n",
      " [0]\n",
      " [0]\n",
      " [0]\n",
      " [0]\n",
      " [0]\n",
      " [0]\n",
      " [0]\n",
      " [0]\n",
      " [0]\n",
      " [0]\n",
      " [0]\n",
      " [0]\n",
      " [0]\n",
      " [0]\n",
      " [0]\n",
      " [0]\n",
      " [0]\n",
      " [0]\n",
      " [0]\n",
      " [0]\n",
      " [0]\n",
      " [0]\n",
      " [0]\n",
      " [0]\n",
      " [0]\n",
      " [0]\n",
      " [0]\n",
      " [0]\n",
      " [0]\n",
      " [0]\n",
      " [0]\n",
      " [0]\n",
      " [0]\n",
      " [0]\n",
      " [0]\n",
      " [1]\n",
      " [1]\n",
      " [1]\n",
      " [1]\n",
      " [1]\n",
      " [1]\n",
      " [1]\n",
      " [1]\n",
      " [1]\n",
      " [1]\n",
      " [1]\n",
      " [1]\n",
      " [1]\n",
      " [1]\n",
      " [1]\n",
      " [1]\n",
      " [1]\n",
      " [1]\n",
      " [1]\n",
      " [1]\n",
      " [1]\n",
      " [1]\n",
      " [1]\n",
      " [1]\n",
      " [1]\n",
      " [1]\n",
      " [1]\n",
      " [1]\n",
      " [1]\n",
      " [1]\n",
      " [1]\n",
      " [1]\n",
      " [1]\n",
      " [1]\n",
      " [1]\n",
      " [1]\n",
      " [1]\n",
      " [1]\n",
      " [1]\n",
      " [1]\n",
      " [1]\n",
      " [1]\n",
      " [1]\n",
      " [1]\n",
      " [1]\n",
      " [1]\n",
      " [1]\n",
      " [1]\n",
      " [1]\n",
      " [1]\n",
      " [2]\n",
      " [2]\n",
      " [2]\n",
      " [2]\n",
      " [2]\n",
      " [2]\n",
      " [2]\n",
      " [2]\n",
      " [2]\n",
      " [2]\n",
      " [2]\n",
      " [2]\n",
      " [2]\n",
      " [2]\n",
      " [2]\n",
      " [2]\n",
      " [2]\n",
      " [2]\n",
      " [2]\n",
      " [2]\n",
      " [2]\n",
      " [2]\n",
      " [2]\n",
      " [2]\n",
      " [2]\n",
      " [2]\n",
      " [2]\n",
      " [2]\n",
      " [2]\n",
      " [2]\n",
      " [2]\n",
      " [2]\n",
      " [2]\n",
      " [2]\n",
      " [2]\n",
      " [2]\n",
      " [2]\n",
      " [2]\n",
      " [2]\n",
      " [2]\n",
      " [2]\n",
      " [2]\n",
      " [2]\n",
      " [2]\n",
      " [2]\n",
      " [2]\n",
      " [2]\n",
      " [2]\n",
      " [2]\n",
      " [2]]\n"
     ]
    }
   ],
   "execution_count": 4
  },
  {
   "cell_type": "markdown",
   "id": "614629ef",
   "metadata": {},
   "source": [
    "## 2. Softmax, Cost, and Derivative Functions"
   ]
  },
  {
   "cell_type": "markdown",
   "id": "79828bb3",
   "metadata": {},
   "source": [
    "2.1 Develop softmax function and try to output softmax function output of this example (3 points). Softmax function \n",
    "$$\\hat{y}_c = \\frac{\\exp\\left(z_c\\right)}{\\sum_{j=1}^C \\exp\\left(z_j\\right)}\\text{, where } c \\text{ is class index and } C \\text{ is the number of classes.}$$"
   ]
  },
  {
   "cell_type": "code",
   "id": "ed924479",
   "metadata": {
    "ExecuteTime": {
     "end_time": "2025-03-04T08:08:21.789769Z",
     "start_time": "2025-03-04T08:08:21.783483Z"
    }
   },
   "source": [
    "def softmax(z):\n",
    "    \"\"\"\n",
    "    Calculating softmax function.\n",
    "    Args:\n",
    "        z: (numpy.ndarray in shape [num_data, num_classes]) logit\n",
    "    Returns:\n",
    "        pred: (numpy.ndarray in shape [num_data, num_classes]) predict value\n",
    "    \"\"\"\n",
    "    ########################\n",
    "    # Write your code here #\n",
    "    exp_zc = np.exp(z)\n",
    "    pred = exp_zc / np.sum(exp_zc, axis=1, keepdims=True)\n",
    "    ########################\n",
    "    \n",
    "    return pred\n",
    "    \n",
    "test_z = np.array([[1, 1, 1],\n",
    "                   [1, 3, 5],\n",
    "                   [-1, 0, 1]])\n",
    "\n",
    "softmax(test_z)"
   ],
   "outputs": [
    {
     "data": {
      "text/plain": [
       "array([[0.33333333, 0.33333333, 0.33333333],\n",
       "       [0.01587624, 0.11731043, 0.86681333],\n",
       "       [0.09003057, 0.24472847, 0.66524096]])"
      ]
     },
     "execution_count": 5,
     "metadata": {},
     "output_type": "execute_result"
    }
   ],
   "execution_count": 5
  },
  {
   "cell_type": "markdown",
   "id": "bd1e9466",
   "metadata": {},
   "source": [
    "2.2 Develop cost function of multi-class logistic regression and try to output cost function output of this example (3 points). Cost function $$\\mathcal{L}=-\\frac{1}{N}\\sum_{i=1}^N\\sum_{c=1}^C y_{ic}\\log\\left(\\hat{y}_{ic}\\right) \\text{, where } N \\text{ is the number of data}$$ \n",
    "\n",
    "(Hint: convert label ndarray to the same shape of predicted ndarray, e.g.\n",
    "$$\n",
    "\\begin{bmatrix} 0 \\\\ 1 \\\\ 2 \\\\ 1 \\\\ 0 \\end{bmatrix} \\Rightarrow \\begin{bmatrix} 1 & 0 & 0 \\\\ 0 & 1 & 0 \\\\ 0 & 0 & 1 \\\\ 0 & 1 & 0 \\\\ 1 & 0 & 0 \\end{bmatrix}\n",
    "$$"
   ]
  },
  {
   "cell_type": "code",
   "id": "a2945394",
   "metadata": {
    "ExecuteTime": {
     "end_time": "2025-03-04T08:08:21.866067Z",
     "start_time": "2025-03-04T08:08:21.860470Z"
    }
   },
   "source": [
    "def cost_function(pred, label):\n",
    "    \"\"\"\n",
    "    Calculating cost function.\n",
    "    Args:\n",
    "        pred: (numpy.ndarray in shape [num_data, num_classes]) predict value after softmax\n",
    "    Returns:\n",
    "        loss: (numpy.ndarray)\n",
    "    \"\"\"\n",
    "    ########################\n",
    "    # Write your code here #\n",
    "    data_num = label.shape[0]\n",
    "    type_num = np.max(label) + 1\n",
    "    label = label.transpose()\n",
    "    label_one_hot = np.eye(type_num)[label]\n",
    "\n",
    "    loss = -np.sum(label_one_hot * np.log(pred)) / data_num\n",
    "    ########################\n",
    "    return loss\n",
    "    \n",
    "test_pred = np.array([[0.1, 0.2, 0.7],\n",
    "                      [0.2, 0.6, 0.2],\n",
    "                      [0.2, 0.1, 0.7]])\n",
    "test_label = np.array([[2], [1], [0]])\n",
    "cost_function(test_pred, test_label)"
   ],
   "outputs": [
    {
     "data": {
      "text/plain": [
       "np.float64(0.8256461600462744)"
      ]
     },
     "execution_count": 6,
     "metadata": {},
     "output_type": "execute_result"
    }
   ],
   "execution_count": 6
  },
  {
   "cell_type": "markdown",
   "id": "e678e1b9",
   "metadata": {},
   "source": [
    "2.3 Develop gradient calculation of multi-class logistic regression and try to output gradient of given example. You're required to derive the derivatives $\\frac{\\partial\\mathcal{L}}{\\partial\\mathbf{w}}$ by yourself and write it in your writing problems. Assume all $x_0=1$, predicted values should be $\\hat{y}_i=\\text{Softmax}\\left(\\mathbf{x}^T_i \\mathbf{w}\\right)$ (3 points for coding, 3 points for mathematical derivation)."
   ]
  },
  {
   "cell_type": "code",
   "id": "3325e9a2",
   "metadata": {
    "ExecuteTime": {
     "end_time": "2025-03-04T08:13:13.167104Z",
     "start_time": "2025-03-04T08:13:13.160622Z"
    }
   },
   "source": [
    "def get_gradient(X, y, y_pred):\n",
    "    \"\"\"\n",
    "    Calculate gradient for gradient descent.\n",
    "    Args:\n",
    "        X: (numpy.ndarray in shape [num_data, 3])\n",
    "        y: (numpy.ndarray in shape [num_data, 1])\n",
    "        y_pred: (numpy.ndarray in shape [num_data, num_classes])\n",
    "    Return:\n",
    "        gradient: (numpy.ndarray in [3, 3]) gradient of w\n",
    "    \"\"\"\n",
    "    ########################\n",
    "    # Write your code here #\n",
    "    N = X.shape[0]\n",
    "    C = y_pred.shape[1]  # number of classes\n",
    "\n",
    "    y_one_hot = np.zeros_like(y_pred)\n",
    "    for i in range(N):\n",
    "        y_one_hot[i, y[i]] = 1\n",
    "\n",
    "    gradient = np.dot(X.T, (y_pred - y_one_hot)) / N\n",
    "\n",
    "    ########################\n",
    "    return gradient\n",
    "\n",
    "test_X = np.array([[1, 1, 2],\n",
    "                   [1, 2, 3],\n",
    "                   [1, 3, 4],\n",
    "                   [1, 4, 5]])\n",
    "test_y = np.array([[0], [1], [1], [2]])\n",
    "test_y_pred = np.array([[0.1, 0.2, 0.7],\n",
    "                        [0.2, 0.4, 0.4],\n",
    "                        [0.2, 0.3, 0.5],\n",
    "                        [0.3, 0.4, 0.3]])\n",
    "get_gradient(test_X, test_y, test_y_pred)"
   ],
   "outputs": [
    {
     "data": {
      "text/plain": [
       "array([[-0.05 , -0.175,  0.225],\n",
       "       [ 0.325, -0.375,  0.05 ],\n",
       "       [ 0.275, -0.55 ,  0.275]])"
      ]
     },
     "execution_count": 10,
     "metadata": {},
     "output_type": "execute_result"
    }
   ],
   "execution_count": 10
  },
  {
   "cell_type": "markdown",
   "id": "95069831",
   "metadata": {},
   "source": [
    "## 3. Gradient Descent"
   ]
  },
  {
   "cell_type": "markdown",
   "id": "74300fe3",
   "metadata": {},
   "source": [
    "3.1 Convert data according to assumption of $x_0=1$. (1 point)"
   ]
  },
  {
   "cell_type": "code",
   "id": "c8fa6126",
   "metadata": {
    "ExecuteTime": {
     "end_time": "2025-03-04T08:08:22.056314Z",
     "start_time": "2025-03-04T08:08:22.053463Z"
    }
   },
   "source": [
    "########################\n",
    "# Write your code here #\n",
    "########################"
   ],
   "outputs": [],
   "execution_count": 8
  },
  {
   "cell_type": "markdown",
   "id": "60e6589a",
   "metadata": {},
   "source": [
    "3.2 Initialize value of $\\mathbf{w}$ and start up gradient descent. Record cost function value iteration by iteration. (3 points)"
   ]
  },
  {
   "cell_type": "code",
   "id": "10da27a7",
   "metadata": {
    "ExecuteTime": {
     "end_time": "2025-03-04T08:08:22.567279Z",
     "start_time": "2025-03-04T08:08:22.171212Z"
    }
   },
   "source": [
    "def gradient_descent(X, y, lr, epoch):\n",
    "    np.random.seed(42) # set random seed to control initialized value\n",
    "    w = np.random.rand(3, 3)\n",
    "    \n",
    "    ########################\n",
    "    # Write your code here #\n",
    "    ########################\n",
    "        \n",
    "    return w\n",
    "    \n",
    "epoch = 10000\n",
    "lr = 0.1\n",
    "cost_record = []\n",
    "w = gradient_descent(X, y, lr, epoch)"
   ],
   "outputs": [
    {
     "ename": "NameError",
     "evalue": "name 'X' is not defined",
     "output_type": "error",
     "traceback": [
      "\u001B[1;31m---------------------------------------------------------------------------\u001B[0m",
      "\u001B[1;31mNameError\u001B[0m                                 Traceback (most recent call last)",
      "Cell \u001B[1;32mIn[9], line 14\u001B[0m\n\u001B[0;32m     12\u001B[0m lr \u001B[38;5;241m=\u001B[39m \u001B[38;5;241m0.1\u001B[39m\n\u001B[0;32m     13\u001B[0m cost_record \u001B[38;5;241m=\u001B[39m []\n\u001B[1;32m---> 14\u001B[0m w \u001B[38;5;241m=\u001B[39m gradient_descent(\u001B[43mX\u001B[49m, y, lr, epoch)\n",
      "\u001B[1;31mNameError\u001B[0m: name 'X' is not defined"
     ]
    }
   ],
   "execution_count": 9
  },
  {
   "cell_type": "markdown",
   "id": "272aced4",
   "metadata": {},
   "source": [
    "3.3 Plot cost function v.s. epoch curve. (1 point)"
   ]
  },
  {
   "cell_type": "code",
   "execution_count": 10,
   "id": "91045feb",
   "metadata": {},
   "outputs": [
    {
     "data": {
      "image/png": "[encoded data removed]",
      "text/plain": [
       "<Figure size 640x480 with 1 Axes>"
      ]
     },
     "metadata": {},
     "output_type": "display_data"
    }
   ],
   "source": [
    "########################\n",
    "# Write your code here #\n",
    "########################"
   ]
  },
  {
   "cell_type": "markdown",
   "id": "11e42c91",
   "metadata": {},
   "source": [
    "## 4. Plot result"
   ]
  },
  {
   "cell_type": "markdown",
   "id": "e2f2e9e6",
   "metadata": {},
   "source": [
    "4.1 Plot scatters using ground-truth label. (2 points)"
   ]
  },
  {
   "cell_type": "code",
   "execution_count": 11,
   "id": "170b7e7e",
   "metadata": {},
   "outputs": [
    {
     "data": {
      "image/png": "[encoded data removed]",
      "text/plain": [
       "<Figure size 640x480 with 1 Axes>"
      ]
     },
     "metadata": {},
     "output_type": "display_data"
    }
   ],
   "source": [
    "########################\n",
    "# Write your code here #\n",
    "########################"
   ]
  },
  {
   "cell_type": "markdown",
   "id": "97ba93ea",
   "metadata": {},
   "source": [
    "4.1 Plot scatters using predicted label. (2 points)"
   ]
  },
  {
   "cell_type": "code",
   "execution_count": 12,
   "id": "81af6c01",
   "metadata": {},
   "outputs": [
    {
     "data": {
      "image/png": "[encoded data removed]",
      "text/plain": [
       "<Figure size 640x480 with 1 Axes>"
      ]
     },
     "metadata": {},
     "output_type": "display_data"
    }
   ],
   "source": [
    "########################\n",
    "# Write your code here #\n",
    "########################"
   ]
  }
 ],
 "metadata": {
  "kernelspec": {
   "display_name": "Python 3 (ipykernel)",
   "language": "python",
   "name": "python3"
  },
  "language_info": {
   "codemirror_mode": {
    "name": "ipython",
    "version": 3
   },
   "file_extension": ".py",
   "mimetype": "text/x-python",
   "name": "python",
   "nbconvert_exporter": "python",
   "pygments_lexer": "ipython3",
   "version": "3.10.9"
  }
 },
 "nbformat": 4,
 "nbformat_minor": 5
}
